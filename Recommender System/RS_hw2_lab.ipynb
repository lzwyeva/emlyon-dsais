{
  "nbformat": 4,
  "nbformat_minor": 0,
  "metadata": {
    "colab": {
      "provenance": [],
      "gpuType": "T4"
    },
    "kernelspec": {
      "name": "python3",
      "display_name": "Python 3"
    },
    "language_info": {
      "name": "python"
    },
    "accelerator": "GPU"
  },
  "cells": [
    {
      "cell_type": "code",
      "execution_count": null,
      "metadata": {
        "colab": {
          "base_uri": "https://localhost:8080/"
        },
        "id": "FR4P6N5BwbF9",
        "outputId": "022f475d-fce5-4683-9733-a5fe8e17f934"
      },
      "outputs": [
        {
          "output_type": "stream",
          "name": "stdout",
          "text": [
            "Mounted at /content/drive\n"
          ]
        }
      ],
      "source": [
        "from google.colab import drive\n",
        "drive.mount('/content/drive')"
      ]
    },
    {
      "cell_type": "code",
      "source": [
        "import pandas as pd\n",
        "import numpy as np\n",
        "from sklearn.cluster import KMeans, SpectralClustering\n",
        "from sklearn.metrics import mutual_info_score, silhouette_score\n",
        "from sklearn.preprocessing import StandardScaler"
      ],
      "metadata": {
        "id": "vWRnbWYRwiJm"
      },
      "execution_count": null,
      "outputs": []
    },
    {
      "cell_type": "code",
      "source": [
        "file_path = '/content/drive/MyDrive/data/merged_data.csv'\n",
        "df = pd.read_csv(file_path)"
      ],
      "metadata": {
        "id": "RNT4qS9OxG37"
      },
      "execution_count": null,
      "outputs": []
    },
    {
      "cell_type": "code",
      "source": [
        "df.head()"
      ],
      "metadata": {
        "colab": {
          "base_uri": "https://localhost:8080/",
          "height": 374
        },
        "id": "TOE-P6PfTaJN",
        "outputId": "364ed7e8-a2b2-4859-f485-a8f383ba1a50"
      },
      "execution_count": null,
      "outputs": [
        {
          "output_type": "execute_result",
          "data": {
            "text/plain": [
              "   Unnamed: 0_x  user_id  Unnamed: 0_y  valence_intensity  fear_intensity  \\\n",
              "0             0  2768501           789           0.452250        0.533000   \n",
              "1             0  2768501           528           0.430667        0.523333   \n",
              "2             0  2768501           813           0.429000        0.601333   \n",
              "3             0  2768501           973           0.401500        0.515375   \n",
              "4             0  2768501           511           0.438000        0.506800   \n",
              "\n",
              "   anger_intensity  happiness_intensity  sadness_intensity  sentiment  \\\n",
              "0         0.428500             0.288500           0.417000         -1   \n",
              "1         0.404667             0.269333           0.389000         -1   \n",
              "2         0.419667             0.249333           0.467333         -1   \n",
              "3         0.421375             0.258750           0.467875         -1   \n",
              "4         0.434000             0.263600           0.411600         -1   \n",
              "\n",
              "         date  \n",
              "0  2020-03-01  \n",
              "1  2020-03-02  \n",
              "2  2020-03-03  \n",
              "3  2020-03-04  \n",
              "4  2020-03-05  "
            ],
            "text/html": [
              "\n",
              "  <div id=\"df-a38feec4-c056-4a39-8567-39acc5ca821e\">\n",
              "    <div class=\"colab-df-container\">\n",
              "      <div>\n",
              "<style scoped>\n",
              "    .dataframe tbody tr th:only-of-type {\n",
              "        vertical-align: middle;\n",
              "    }\n",
              "\n",
              "    .dataframe tbody tr th {\n",
              "        vertical-align: top;\n",
              "    }\n",
              "\n",
              "    .dataframe thead th {\n",
              "        text-align: right;\n",
              "    }\n",
              "</style>\n",
              "<table border=\"1\" class=\"dataframe\">\n",
              "  <thead>\n",
              "    <tr style=\"text-align: right;\">\n",
              "      <th></th>\n",
              "      <th>Unnamed: 0_x</th>\n",
              "      <th>user_id</th>\n",
              "      <th>Unnamed: 0_y</th>\n",
              "      <th>valence_intensity</th>\n",
              "      <th>fear_intensity</th>\n",
              "      <th>anger_intensity</th>\n",
              "      <th>happiness_intensity</th>\n",
              "      <th>sadness_intensity</th>\n",
              "      <th>sentiment</th>\n",
              "      <th>date</th>\n",
              "    </tr>\n",
              "  </thead>\n",
              "  <tbody>\n",
              "    <tr>\n",
              "      <th>0</th>\n",
              "      <td>0</td>\n",
              "      <td>2768501</td>\n",
              "      <td>789</td>\n",
              "      <td>0.452250</td>\n",
              "      <td>0.533000</td>\n",
              "      <td>0.428500</td>\n",
              "      <td>0.288500</td>\n",
              "      <td>0.417000</td>\n",
              "      <td>-1</td>\n",
              "      <td>2020-03-01</td>\n",
              "    </tr>\n",
              "    <tr>\n",
              "      <th>1</th>\n",
              "      <td>0</td>\n",
              "      <td>2768501</td>\n",
              "      <td>528</td>\n",
              "      <td>0.430667</td>\n",
              "      <td>0.523333</td>\n",
              "      <td>0.404667</td>\n",
              "      <td>0.269333</td>\n",
              "      <td>0.389000</td>\n",
              "      <td>-1</td>\n",
              "      <td>2020-03-02</td>\n",
              "    </tr>\n",
              "    <tr>\n",
              "      <th>2</th>\n",
              "      <td>0</td>\n",
              "      <td>2768501</td>\n",
              "      <td>813</td>\n",
              "      <td>0.429000</td>\n",
              "      <td>0.601333</td>\n",
              "      <td>0.419667</td>\n",
              "      <td>0.249333</td>\n",
              "      <td>0.467333</td>\n",
              "      <td>-1</td>\n",
              "      <td>2020-03-03</td>\n",
              "    </tr>\n",
              "    <tr>\n",
              "      <th>3</th>\n",
              "      <td>0</td>\n",
              "      <td>2768501</td>\n",
              "      <td>973</td>\n",
              "      <td>0.401500</td>\n",
              "      <td>0.515375</td>\n",
              "      <td>0.421375</td>\n",
              "      <td>0.258750</td>\n",
              "      <td>0.467875</td>\n",
              "      <td>-1</td>\n",
              "      <td>2020-03-04</td>\n",
              "    </tr>\n",
              "    <tr>\n",
              "      <th>4</th>\n",
              "      <td>0</td>\n",
              "      <td>2768501</td>\n",
              "      <td>511</td>\n",
              "      <td>0.438000</td>\n",
              "      <td>0.506800</td>\n",
              "      <td>0.434000</td>\n",
              "      <td>0.263600</td>\n",
              "      <td>0.411600</td>\n",
              "      <td>-1</td>\n",
              "      <td>2020-03-05</td>\n",
              "    </tr>\n",
              "  </tbody>\n",
              "</table>\n",
              "</div>\n",
              "      <button class=\"colab-df-convert\" onclick=\"convertToInteractive('df-a38feec4-c056-4a39-8567-39acc5ca821e')\"\n",
              "              title=\"Convert this dataframe to an interactive table.\"\n",
              "              style=\"display:none;\">\n",
              "        \n",
              "  <svg xmlns=\"http://www.w3.org/2000/svg\" height=\"24px\"viewBox=\"0 0 24 24\"\n",
              "       width=\"24px\">\n",
              "    <path d=\"M0 0h24v24H0V0z\" fill=\"none\"/>\n",
              "    <path d=\"M18.56 5.44l.94 2.06.94-2.06 2.06-.94-2.06-.94-.94-2.06-.94 2.06-2.06.94zm-11 1L8.5 8.5l.94-2.06 2.06-.94-2.06-.94L8.5 2.5l-.94 2.06-2.06.94zm10 10l.94 2.06.94-2.06 2.06-.94-2.06-.94-.94-2.06-.94 2.06-2.06.94z\"/><path d=\"M17.41 7.96l-1.37-1.37c-.4-.4-.92-.59-1.43-.59-.52 0-1.04.2-1.43.59L10.3 9.45l-7.72 7.72c-.78.78-.78 2.05 0 2.83L4 21.41c.39.39.9.59 1.41.59.51 0 1.02-.2 1.41-.59l7.78-7.78 2.81-2.81c.8-.78.8-2.07 0-2.86zM5.41 20L4 18.59l7.72-7.72 1.47 1.35L5.41 20z\"/>\n",
              "  </svg>\n",
              "      </button>\n",
              "      \n",
              "  <style>\n",
              "    .colab-df-container {\n",
              "      display:flex;\n",
              "      flex-wrap:wrap;\n",
              "      gap: 12px;\n",
              "    }\n",
              "\n",
              "    .colab-df-convert {\n",
              "      background-color: #E8F0FE;\n",
              "      border: none;\n",
              "      border-radius: 50%;\n",
              "      cursor: pointer;\n",
              "      display: none;\n",
              "      fill: #1967D2;\n",
              "      height: 32px;\n",
              "      padding: 0 0 0 0;\n",
              "      width: 32px;\n",
              "    }\n",
              "\n",
              "    .colab-df-convert:hover {\n",
              "      background-color: #E2EBFA;\n",
              "      box-shadow: 0px 1px 2px rgba(60, 64, 67, 0.3), 0px 1px 3px 1px rgba(60, 64, 67, 0.15);\n",
              "      fill: #174EA6;\n",
              "    }\n",
              "\n",
              "    [theme=dark] .colab-df-convert {\n",
              "      background-color: #3B4455;\n",
              "      fill: #D2E3FC;\n",
              "    }\n",
              "\n",
              "    [theme=dark] .colab-df-convert:hover {\n",
              "      background-color: #434B5C;\n",
              "      box-shadow: 0px 1px 3px 1px rgba(0, 0, 0, 0.15);\n",
              "      filter: drop-shadow(0px 1px 2px rgba(0, 0, 0, 0.3));\n",
              "      fill: #FFFFFF;\n",
              "    }\n",
              "  </style>\n",
              "\n",
              "      <script>\n",
              "        const buttonEl =\n",
              "          document.querySelector('#df-a38feec4-c056-4a39-8567-39acc5ca821e button.colab-df-convert');\n",
              "        buttonEl.style.display =\n",
              "          google.colab.kernel.accessAllowed ? 'block' : 'none';\n",
              "\n",
              "        async function convertToInteractive(key) {\n",
              "          const element = document.querySelector('#df-a38feec4-c056-4a39-8567-39acc5ca821e');\n",
              "          const dataTable =\n",
              "            await google.colab.kernel.invokeFunction('convertToInteractive',\n",
              "                                                     [key], {});\n",
              "          if (!dataTable) return;\n",
              "\n",
              "          const docLinkHtml = 'Like what you see? Visit the ' +\n",
              "            '<a target=\"_blank\" href=https://colab.research.google.com/notebooks/data_table.ipynb>data table notebook</a>'\n",
              "            + ' to learn more about interactive tables.';\n",
              "          element.innerHTML = '';\n",
              "          dataTable['output_type'] = 'display_data';\n",
              "          await google.colab.output.renderOutput(dataTable, element);\n",
              "          const docLink = document.createElement('div');\n",
              "          docLink.innerHTML = docLinkHtml;\n",
              "          element.appendChild(docLink);\n",
              "        }\n",
              "      </script>\n",
              "    </div>\n",
              "  </div>\n",
              "  "
            ]
          },
          "metadata": {},
          "execution_count": 4
        }
      ]
    },
    {
      "cell_type": "code",
      "source": [
        "last_five_days = pd.read_csv('/content/drive/MyDrive/data/last_five_days.csv')"
      ],
      "metadata": {
        "id": "0jGM9row5LdC"
      },
      "execution_count": null,
      "outputs": []
    },
    {
      "cell_type": "code",
      "source": [
        "last_five_days.head()"
      ],
      "metadata": {
        "colab": {
          "base_uri": "https://localhost:8080/",
          "height": 443
        },
        "id": "B3_csiFmTgFV",
        "outputId": "d0c4e87b-1aae-4e47-83c5-a1bd254d6a25"
      },
      "execution_count": null,
      "outputs": [
        {
          "output_type": "execute_result",
          "data": {
            "text/plain": [
              "   Unnamed: 0_x  user_id  Unnamed: 0_y  valence_intensity  fear_intensity  \\\n",
              "0             0  2768501           760           0.457870        0.492783   \n",
              "1             0  2768501          1976           0.429682        0.527045   \n",
              "2             0  2768501           375           0.437091        0.523227   \n",
              "3             0  2768501          2083           0.474741        0.486630   \n",
              "4             0  2768501          1663           0.458600        0.488200   \n",
              "\n",
              "   anger_intensity  happiness_intensity  sadness_intensity  sentiment  \\\n",
              "0         0.412000             0.293304           0.411565          0   \n",
              "1         0.426409             0.262682           0.437045         -1   \n",
              "2         0.430682             0.259318           0.438636         -1   \n",
              "3         0.417407             0.305000           0.401407          0   \n",
              "4         0.413900             0.274967           0.415900          0   \n",
              "\n",
              "         date  \n",
              "0  2021-08-27  \n",
              "1  2021-08-28  \n",
              "2  2021-08-29  \n",
              "3  2021-08-30  \n",
              "4  2021-08-31  "
            ],
            "text/html": [
              "\n",
              "  <div id=\"df-49fced0c-ef2c-49f8-bcbd-4e5f4c08788c\">\n",
              "    <div class=\"colab-df-container\">\n",
              "      <div>\n",
              "<style scoped>\n",
              "    .dataframe tbody tr th:only-of-type {\n",
              "        vertical-align: middle;\n",
              "    }\n",
              "\n",
              "    .dataframe tbody tr th {\n",
              "        vertical-align: top;\n",
              "    }\n",
              "\n",
              "    .dataframe thead th {\n",
              "        text-align: right;\n",
              "    }\n",
              "</style>\n",
              "<table border=\"1\" class=\"dataframe\">\n",
              "  <thead>\n",
              "    <tr style=\"text-align: right;\">\n",
              "      <th></th>\n",
              "      <th>Unnamed: 0_x</th>\n",
              "      <th>user_id</th>\n",
              "      <th>Unnamed: 0_y</th>\n",
              "      <th>valence_intensity</th>\n",
              "      <th>fear_intensity</th>\n",
              "      <th>anger_intensity</th>\n",
              "      <th>happiness_intensity</th>\n",
              "      <th>sadness_intensity</th>\n",
              "      <th>sentiment</th>\n",
              "      <th>date</th>\n",
              "    </tr>\n",
              "  </thead>\n",
              "  <tbody>\n",
              "    <tr>\n",
              "      <th>0</th>\n",
              "      <td>0</td>\n",
              "      <td>2768501</td>\n",
              "      <td>760</td>\n",
              "      <td>0.457870</td>\n",
              "      <td>0.492783</td>\n",
              "      <td>0.412000</td>\n",
              "      <td>0.293304</td>\n",
              "      <td>0.411565</td>\n",
              "      <td>0</td>\n",
              "      <td>2021-08-27</td>\n",
              "    </tr>\n",
              "    <tr>\n",
              "      <th>1</th>\n",
              "      <td>0</td>\n",
              "      <td>2768501</td>\n",
              "      <td>1976</td>\n",
              "      <td>0.429682</td>\n",
              "      <td>0.527045</td>\n",
              "      <td>0.426409</td>\n",
              "      <td>0.262682</td>\n",
              "      <td>0.437045</td>\n",
              "      <td>-1</td>\n",
              "      <td>2021-08-28</td>\n",
              "    </tr>\n",
              "    <tr>\n",
              "      <th>2</th>\n",
              "      <td>0</td>\n",
              "      <td>2768501</td>\n",
              "      <td>375</td>\n",
              "      <td>0.437091</td>\n",
              "      <td>0.523227</td>\n",
              "      <td>0.430682</td>\n",
              "      <td>0.259318</td>\n",
              "      <td>0.438636</td>\n",
              "      <td>-1</td>\n",
              "      <td>2021-08-29</td>\n",
              "    </tr>\n",
              "    <tr>\n",
              "      <th>3</th>\n",
              "      <td>0</td>\n",
              "      <td>2768501</td>\n",
              "      <td>2083</td>\n",
              "      <td>0.474741</td>\n",
              "      <td>0.486630</td>\n",
              "      <td>0.417407</td>\n",
              "      <td>0.305000</td>\n",
              "      <td>0.401407</td>\n",
              "      <td>0</td>\n",
              "      <td>2021-08-30</td>\n",
              "    </tr>\n",
              "    <tr>\n",
              "      <th>4</th>\n",
              "      <td>0</td>\n",
              "      <td>2768501</td>\n",
              "      <td>1663</td>\n",
              "      <td>0.458600</td>\n",
              "      <td>0.488200</td>\n",
              "      <td>0.413900</td>\n",
              "      <td>0.274967</td>\n",
              "      <td>0.415900</td>\n",
              "      <td>0</td>\n",
              "      <td>2021-08-31</td>\n",
              "    </tr>\n",
              "  </tbody>\n",
              "</table>\n",
              "</div>\n",
              "      <button class=\"colab-df-convert\" onclick=\"convertToInteractive('df-49fced0c-ef2c-49f8-bcbd-4e5f4c08788c')\"\n",
              "              title=\"Convert this dataframe to an interactive table.\"\n",
              "              style=\"display:none;\">\n",
              "        \n",
              "  <svg xmlns=\"http://www.w3.org/2000/svg\" height=\"24px\"viewBox=\"0 0 24 24\"\n",
              "       width=\"24px\">\n",
              "    <path d=\"M0 0h24v24H0V0z\" fill=\"none\"/>\n",
              "    <path d=\"M18.56 5.44l.94 2.06.94-2.06 2.06-.94-2.06-.94-.94-2.06-.94 2.06-2.06.94zm-11 1L8.5 8.5l.94-2.06 2.06-.94-2.06-.94L8.5 2.5l-.94 2.06-2.06.94zm10 10l.94 2.06.94-2.06 2.06-.94-2.06-.94-.94-2.06-.94 2.06-2.06.94z\"/><path d=\"M17.41 7.96l-1.37-1.37c-.4-.4-.92-.59-1.43-.59-.52 0-1.04.2-1.43.59L10.3 9.45l-7.72 7.72c-.78.78-.78 2.05 0 2.83L4 21.41c.39.39.9.59 1.41.59.51 0 1.02-.2 1.41-.59l7.78-7.78 2.81-2.81c.8-.78.8-2.07 0-2.86zM5.41 20L4 18.59l7.72-7.72 1.47 1.35L5.41 20z\"/>\n",
              "  </svg>\n",
              "      </button>\n",
              "      \n",
              "  <style>\n",
              "    .colab-df-container {\n",
              "      display:flex;\n",
              "      flex-wrap:wrap;\n",
              "      gap: 12px;\n",
              "    }\n",
              "\n",
              "    .colab-df-convert {\n",
              "      background-color: #E8F0FE;\n",
              "      border: none;\n",
              "      border-radius: 50%;\n",
              "      cursor: pointer;\n",
              "      display: none;\n",
              "      fill: #1967D2;\n",
              "      height: 32px;\n",
              "      padding: 0 0 0 0;\n",
              "      width: 32px;\n",
              "    }\n",
              "\n",
              "    .colab-df-convert:hover {\n",
              "      background-color: #E2EBFA;\n",
              "      box-shadow: 0px 1px 2px rgba(60, 64, 67, 0.3), 0px 1px 3px 1px rgba(60, 64, 67, 0.15);\n",
              "      fill: #174EA6;\n",
              "    }\n",
              "\n",
              "    [theme=dark] .colab-df-convert {\n",
              "      background-color: #3B4455;\n",
              "      fill: #D2E3FC;\n",
              "    }\n",
              "\n",
              "    [theme=dark] .colab-df-convert:hover {\n",
              "      background-color: #434B5C;\n",
              "      box-shadow: 0px 1px 3px 1px rgba(0, 0, 0, 0.15);\n",
              "      filter: drop-shadow(0px 1px 2px rgba(0, 0, 0, 0.3));\n",
              "      fill: #FFFFFF;\n",
              "    }\n",
              "  </style>\n",
              "\n",
              "      <script>\n",
              "        const buttonEl =\n",
              "          document.querySelector('#df-49fced0c-ef2c-49f8-bcbd-4e5f4c08788c button.colab-df-convert');\n",
              "        buttonEl.style.display =\n",
              "          google.colab.kernel.accessAllowed ? 'block' : 'none';\n",
              "\n",
              "        async function convertToInteractive(key) {\n",
              "          const element = document.querySelector('#df-49fced0c-ef2c-49f8-bcbd-4e5f4c08788c');\n",
              "          const dataTable =\n",
              "            await google.colab.kernel.invokeFunction('convertToInteractive',\n",
              "                                                     [key], {});\n",
              "          if (!dataTable) return;\n",
              "\n",
              "          const docLinkHtml = 'Like what you see? Visit the ' +\n",
              "            '<a target=\"_blank\" href=https://colab.research.google.com/notebooks/data_table.ipynb>data table notebook</a>'\n",
              "            + ' to learn more about interactive tables.';\n",
              "          element.innerHTML = '';\n",
              "          dataTable['output_type'] = 'display_data';\n",
              "          await google.colab.output.renderOutput(dataTable, element);\n",
              "          const docLink = document.createElement('div');\n",
              "          docLink.innerHTML = docLinkHtml;\n",
              "          element.appendChild(docLink);\n",
              "        }\n",
              "      </script>\n",
              "    </div>\n",
              "  </div>\n",
              "  "
            ]
          },
          "metadata": {},
          "execution_count": 6
        }
      ]
    },
    {
      "cell_type": "code",
      "source": [
        "# Select the relevant columns for clustering\n",
        "X = df[['valence_intensity', 'fear_intensity', 'anger_intensity', 'happiness_intensity', 'sadness_intensity']]\n",
        "y = df[['sentiment']]"
      ],
      "metadata": {
        "id": "36IWW864w49Z"
      },
      "execution_count": null,
      "outputs": []
    },
    {
      "cell_type": "code",
      "source": [
        "X_last5 = last_five_days[['valence_intensity', 'fear_intensity', 'anger_intensity', 'happiness_intensity', 'sadness_intensity']]\n",
        "y_last5 = last_five_days[['sentiment']]"
      ],
      "metadata": {
        "id": "BltFUBeM5YrF"
      },
      "execution_count": null,
      "outputs": []
    },
    {
      "cell_type": "markdown",
      "source": [
        "Here we observed that the labels in 'sentiment' are not 0,1,2.\n",
        "After analysing we found that -1 shoud be replaced by 2. To ensure the following scores are matched."
      ],
      "metadata": {
        "id": "nuD6WokXGvuk"
      }
    },
    {
      "cell_type": "code",
      "source": [
        "# Update the label values in the y DataFrame\n",
        "y['sentiment'] = y['sentiment'].replace({-1: 2, 0: 0, 1: 1})"
      ],
      "metadata": {
        "id": "NMpg53VunXTL",
        "colab": {
          "base_uri": "https://localhost:8080/"
        },
        "outputId": "8351f0ca-08da-4ab1-a230-6b61af8f4eed"
      },
      "execution_count": null,
      "outputs": [
        {
          "output_type": "stream",
          "name": "stderr",
          "text": [
            "<ipython-input-10-d3f49bd67a92>:3: SettingWithCopyWarning: \n",
            "A value is trying to be set on a copy of a slice from a DataFrame.\n",
            "Try using .loc[row_indexer,col_indexer] = value instead\n",
            "\n",
            "See the caveats in the documentation: https://pandas.pydata.org/pandas-docs/stable/user_guide/indexing.html#returning-a-view-versus-a-copy\n",
            "  y['sentiment'] = y['sentiment'].replace({-1: 2, 0: 0, 1: 1})\n"
          ]
        }
      ]
    },
    {
      "cell_type": "markdown",
      "source": [
        "# 1\n",
        "Using all days (except the last five days), you are asked to perform a Kmeans and the spectral clustering with K = 3. Color the 3 groups with respect to the given labels. Using the mutual information and the silhouette score you are asked to evaluate the quality of your clusterings. Make an interpretation of your results."
      ],
      "metadata": {
        "id": "WAuBKeOECh9-"
      }
    },
    {
      "cell_type": "markdown",
      "source": [
        "Use Pca to reduce the dimension .\n"
      ],
      "metadata": {
        "id": "Dlc6YWiXCIkJ"
      }
    },
    {
      "cell_type": "code",
      "source": [
        "from sklearn.decomposition import PCA\n",
        "#Perform PCA for dimensionality reduction\n",
        "pca = PCA(n_components=2) \n",
        "X_principal= pca.fit_transform(X)\n",
        "X_principal = pd.DataFrame(X_principal)\n",
        "X_principal.columns = ['P1','P2']\n",
        "X_principal"
      ],
      "metadata": {
        "colab": {
          "base_uri": "https://localhost:8080/",
          "height": 423
        },
        "id": "L0N62Tdn8BfU",
        "outputId": "7e427629-55b4-4a79-f190-149f7df5ba68"
      },
      "execution_count": null,
      "outputs": [
        {
          "output_type": "execute_result",
          "data": {
            "text/plain": [
              "             P1        P2\n",
              "0     -0.043290  0.036983\n",
              "1     -0.036622  0.014529\n",
              "2     -0.122402  0.070672\n",
              "3     -0.089108 -0.003838\n",
              "4     -0.048251 -0.001545\n",
              "...         ...       ...\n",
              "53028 -0.249820 -0.134210\n",
              "53029 -0.334141 -0.122531\n",
              "53030 -0.263758  0.009744\n",
              "53031 -0.061495  0.017186\n",
              "53032  0.067914 -0.045035\n",
              "\n",
              "[53033 rows x 2 columns]"
            ],
            "text/html": [
              "\n",
              "  <div id=\"df-0927a401-00bb-4d97-8e9b-71f60e5f263a\">\n",
              "    <div class=\"colab-df-container\">\n",
              "      <div>\n",
              "<style scoped>\n",
              "    .dataframe tbody tr th:only-of-type {\n",
              "        vertical-align: middle;\n",
              "    }\n",
              "\n",
              "    .dataframe tbody tr th {\n",
              "        vertical-align: top;\n",
              "    }\n",
              "\n",
              "    .dataframe thead th {\n",
              "        text-align: right;\n",
              "    }\n",
              "</style>\n",
              "<table border=\"1\" class=\"dataframe\">\n",
              "  <thead>\n",
              "    <tr style=\"text-align: right;\">\n",
              "      <th></th>\n",
              "      <th>P1</th>\n",
              "      <th>P2</th>\n",
              "    </tr>\n",
              "  </thead>\n",
              "  <tbody>\n",
              "    <tr>\n",
              "      <th>0</th>\n",
              "      <td>-0.043290</td>\n",
              "      <td>0.036983</td>\n",
              "    </tr>\n",
              "    <tr>\n",
              "      <th>1</th>\n",
              "      <td>-0.036622</td>\n",
              "      <td>0.014529</td>\n",
              "    </tr>\n",
              "    <tr>\n",
              "      <th>2</th>\n",
              "      <td>-0.122402</td>\n",
              "      <td>0.070672</td>\n",
              "    </tr>\n",
              "    <tr>\n",
              "      <th>3</th>\n",
              "      <td>-0.089108</td>\n",
              "      <td>-0.003838</td>\n",
              "    </tr>\n",
              "    <tr>\n",
              "      <th>4</th>\n",
              "      <td>-0.048251</td>\n",
              "      <td>-0.001545</td>\n",
              "    </tr>\n",
              "    <tr>\n",
              "      <th>...</th>\n",
              "      <td>...</td>\n",
              "      <td>...</td>\n",
              "    </tr>\n",
              "    <tr>\n",
              "      <th>53028</th>\n",
              "      <td>-0.249820</td>\n",
              "      <td>-0.134210</td>\n",
              "    </tr>\n",
              "    <tr>\n",
              "      <th>53029</th>\n",
              "      <td>-0.334141</td>\n",
              "      <td>-0.122531</td>\n",
              "    </tr>\n",
              "    <tr>\n",
              "      <th>53030</th>\n",
              "      <td>-0.263758</td>\n",
              "      <td>0.009744</td>\n",
              "    </tr>\n",
              "    <tr>\n",
              "      <th>53031</th>\n",
              "      <td>-0.061495</td>\n",
              "      <td>0.017186</td>\n",
              "    </tr>\n",
              "    <tr>\n",
              "      <th>53032</th>\n",
              "      <td>0.067914</td>\n",
              "      <td>-0.045035</td>\n",
              "    </tr>\n",
              "  </tbody>\n",
              "</table>\n",
              "<p>53033 rows × 2 columns</p>\n",
              "</div>\n",
              "      <button class=\"colab-df-convert\" onclick=\"convertToInteractive('df-0927a401-00bb-4d97-8e9b-71f60e5f263a')\"\n",
              "              title=\"Convert this dataframe to an interactive table.\"\n",
              "              style=\"display:none;\">\n",
              "        \n",
              "  <svg xmlns=\"http://www.w3.org/2000/svg\" height=\"24px\"viewBox=\"0 0 24 24\"\n",
              "       width=\"24px\">\n",
              "    <path d=\"M0 0h24v24H0V0z\" fill=\"none\"/>\n",
              "    <path d=\"M18.56 5.44l.94 2.06.94-2.06 2.06-.94-2.06-.94-.94-2.06-.94 2.06-2.06.94zm-11 1L8.5 8.5l.94-2.06 2.06-.94-2.06-.94L8.5 2.5l-.94 2.06-2.06.94zm10 10l.94 2.06.94-2.06 2.06-.94-2.06-.94-.94-2.06-.94 2.06-2.06.94z\"/><path d=\"M17.41 7.96l-1.37-1.37c-.4-.4-.92-.59-1.43-.59-.52 0-1.04.2-1.43.59L10.3 9.45l-7.72 7.72c-.78.78-.78 2.05 0 2.83L4 21.41c.39.39.9.59 1.41.59.51 0 1.02-.2 1.41-.59l7.78-7.78 2.81-2.81c.8-.78.8-2.07 0-2.86zM5.41 20L4 18.59l7.72-7.72 1.47 1.35L5.41 20z\"/>\n",
              "  </svg>\n",
              "      </button>\n",
              "      \n",
              "  <style>\n",
              "    .colab-df-container {\n",
              "      display:flex;\n",
              "      flex-wrap:wrap;\n",
              "      gap: 12px;\n",
              "    }\n",
              "\n",
              "    .colab-df-convert {\n",
              "      background-color: #E8F0FE;\n",
              "      border: none;\n",
              "      border-radius: 50%;\n",
              "      cursor: pointer;\n",
              "      display: none;\n",
              "      fill: #1967D2;\n",
              "      height: 32px;\n",
              "      padding: 0 0 0 0;\n",
              "      width: 32px;\n",
              "    }\n",
              "\n",
              "    .colab-df-convert:hover {\n",
              "      background-color: #E2EBFA;\n",
              "      box-shadow: 0px 1px 2px rgba(60, 64, 67, 0.3), 0px 1px 3px 1px rgba(60, 64, 67, 0.15);\n",
              "      fill: #174EA6;\n",
              "    }\n",
              "\n",
              "    [theme=dark] .colab-df-convert {\n",
              "      background-color: #3B4455;\n",
              "      fill: #D2E3FC;\n",
              "    }\n",
              "\n",
              "    [theme=dark] .colab-df-convert:hover {\n",
              "      background-color: #434B5C;\n",
              "      box-shadow: 0px 1px 3px 1px rgba(0, 0, 0, 0.15);\n",
              "      filter: drop-shadow(0px 1px 2px rgba(0, 0, 0, 0.3));\n",
              "      fill: #FFFFFF;\n",
              "    }\n",
              "  </style>\n",
              "\n",
              "      <script>\n",
              "        const buttonEl =\n",
              "          document.querySelector('#df-0927a401-00bb-4d97-8e9b-71f60e5f263a button.colab-df-convert');\n",
              "        buttonEl.style.display =\n",
              "          google.colab.kernel.accessAllowed ? 'block' : 'none';\n",
              "\n",
              "        async function convertToInteractive(key) {\n",
              "          const element = document.querySelector('#df-0927a401-00bb-4d97-8e9b-71f60e5f263a');\n",
              "          const dataTable =\n",
              "            await google.colab.kernel.invokeFunction('convertToInteractive',\n",
              "                                                     [key], {});\n",
              "          if (!dataTable) return;\n",
              "\n",
              "          const docLinkHtml = 'Like what you see? Visit the ' +\n",
              "            '<a target=\"_blank\" href=https://colab.research.google.com/notebooks/data_table.ipynb>data table notebook</a>'\n",
              "            + ' to learn more about interactive tables.';\n",
              "          element.innerHTML = '';\n",
              "          dataTable['output_type'] = 'display_data';\n",
              "          await google.colab.output.renderOutput(dataTable, element);\n",
              "          const docLink = document.createElement('div');\n",
              "          docLink.innerHTML = docLinkHtml;\n",
              "          element.appendChild(docLink);\n",
              "        }\n",
              "      </script>\n",
              "    </div>\n",
              "  </div>\n",
              "  "
            ]
          },
          "metadata": {},
          "execution_count": 31
        }
      ]
    },
    {
      "cell_type": "code",
      "source": [
        "plt.scatter(X_principal['P1'],X_principal['P2'],c = y['sentiment'])\n",
        "plt.show()"
      ],
      "metadata": {
        "colab": {
          "base_uri": "https://localhost:8080/",
          "height": 430
        },
        "id": "ONuwkC8fDMqF",
        "outputId": "c0e5d49f-e4b1-440e-df7c-fdd70a5ba5d6"
      },
      "execution_count": null,
      "outputs": [
        {
          "output_type": "display_data",
          "data": {
            "text/plain": [
              "<Figure size 640x480 with 1 Axes>"
            ],
            "image/png": "[encoded data removed]"
          },
          "metadata": {}
        }
      ]
    },
    {
      "cell_type": "code",
      "source": [
        "# Apply k-means clustering\n",
        "kmeans = KMeans(n_clusters=3)  # Specify the number of clusters you want\n",
        "kmeans.fit(X_principal)\n",
        "\n",
        "# Get the cluster labels assigned to each data point\n",
        "cluster_labels = kmeans.labels_\n",
        "# Add the cluster labels to the X_principal DataFrame\n",
        "X_principal['Cluster'] = cluster_labels\n",
        "# Print the resulting DataFrame with PCA dimensions and cluster labels\n",
        "print(X_principal)\n",
        "import matplotlib.pyplot as plt   \n",
        "# Plotting the clusters\n",
        "plt.scatter(X_principal['P1'], X_principal['P2'], c=cluster_labels, cmap='rainbow')\n",
        "plt.scatter(kmeans.cluster_centers_[:, 0], kmeans.cluster_centers_[:, 1], marker='x', color='red', label='Cluster Centers')\n",
        "plt.xlabel('P1')\n",
        "plt.ylabel('P2')\n",
        "plt.title('K-Means Clustering')\n",
        "plt.legend()\n",
        "plt.show()\n"
      ],
      "metadata": {
        "colab": {
          "base_uri": "https://localhost:8080/",
          "height": 780
        },
        "id": "Au968WjX_WMN",
        "outputId": "77314749-771b-4188-f03f-48ffa634ed2e"
      },
      "execution_count": null,
      "outputs": [
        {
          "output_type": "stream",
          "name": "stderr",
          "text": [
            "/usr/local/lib/python3.10/dist-packages/sklearn/cluster/_kmeans.py:870: FutureWarning: The default value of `n_init` will change from 10 to 'auto' in 1.4. Set the value of `n_init` explicitly to suppress the warning\n",
            "  warnings.warn(\n"
          ]
        },
        {
          "output_type": "stream",
          "name": "stdout",
          "text": [
            "             P1        P2  Cluster\n",
            "0     -0.043290  0.036983        2\n",
            "1     -0.036622  0.014529        2\n",
            "2     -0.122402  0.070672        0\n",
            "3     -0.089108 -0.003838        0\n",
            "4     -0.048251 -0.001545        2\n",
            "...         ...       ...      ...\n",
            "53028 -0.249820 -0.134210        0\n",
            "53029 -0.334141 -0.122531        0\n",
            "53030 -0.263758  0.009744        0\n",
            "53031 -0.061495  0.017186        2\n",
            "53032  0.067914 -0.045035        1\n",
            "\n",
            "[53033 rows x 3 columns]\n"
          ]
        },
        {
          "output_type": "display_data",
          "data": {
            "text/plain": [
              "<Figure size 640x480 with 1 Axes>"
            ],
            "image/png": "[encoded data removed]"
          },
          "metadata": {}
        }
      ]
    },
    {
      "cell_type": "markdown",
      "source": [
        "Spectral **Clustering**\n",
        "\n"
      ],
      "metadata": {
        "id": "2s7sL5gKdZAE"
      }
    },
    {
      "cell_type": "code",
      "source": [
        "# Perform spectral clustering\n",
        "#spectral_clustering = SpectralClustering(n_clusters=3, random_state=42)\n",
        "# Fit and predict the clusters\n",
        "#cluster_assignments = spectral_clustering.fit_predict(scaled_data_df)"
      ],
      "metadata": {
        "id": "VkMn2xL3yDjI"
      },
      "execution_count": null,
      "outputs": []
    },
    {
      "cell_type": "markdown",
      "source": [
        "The session crashed because running out of memories, so I try to reduce the dimensionality of the data using PCA."
      ],
      "metadata": {
        "id": "n3IrsXq0eS_T"
      }
    },
    {
      "cell_type": "code",
      "source": [
        "#from sklearn.decomposition import PCA\n",
        "# Perform PCA for dimensionality reduction\n",
        "#pca = PCA(n_components=2) \n",
        "#reduced_data = pca.fit_transform(scaled_data_df)"
      ],
      "metadata": {
        "id": "eP3Ud3APeRUc"
      },
      "execution_count": null,
      "outputs": []
    },
    {
      "cell_type": "code",
      "source": [
        "# Instantiate the SpectralClustering algorithm\n",
        "#spectral_clustering = SpectralClustering(n_clusters=3, random_state=42)\n",
        "# Fit and predict the clusters\n",
        "#cluster_assignments = spectral_clustering.fit_predict(reduced_data)\n",
        "# Print the cluster assignments\n",
        "#print(cluster_assignments)"
      ],
      "metadata": {
        "id": "i_VbD9stf-oE"
      },
      "execution_count": null,
      "outputs": []
    },
    {
      "cell_type": "markdown",
      "source": [
        "PCA didn't help, so the only thing I can so is to use a subset of the data."
      ],
      "metadata": {
        "id": "Asg3vWtigNhD"
      }
    },
    {
      "cell_type": "code",
      "source": [
        "#subset_size = 1000\n",
        "# Randomly sample a subset from the data\n",
        "#subset_indices = np.random.choice(len(scaled_data_df), subset_size, replace=False)\n",
        "#subset_data = scaled_data_df[subset_indices]\n"
      ],
      "metadata": {
        "id": "ko62qgDOgqqI"
      },
      "execution_count": null,
      "outputs": []
    },
    {
      "cell_type": "markdown",
      "source": [
        "### Using the mutual information and the silhouette score you are asked to evaluate the quality of your clusterings. Make an interpretation of your results."
      ],
      "metadata": {
        "id": "ajeuuu2zkqQV"
      }
    },
    {
      "cell_type": "code",
      "source": [
        "y = y.squeeze()  # Reshape to 1D array\n",
        "from sklearn.metrics import mutual_info_score, silhouette_score\n",
        "# Calculate mutual information\n",
        "mutual_info = mutual_info_score(y, cluster_labels)\n",
        "print(\"Mutual Information:\", mutual_info)\n",
        "\n",
        "# Calculate silhouette score\n",
        "silhouette = silhouette_score(X_principal, cluster_labels)\n",
        "print(\"Silhouette Score:\", silhouette)\n"
      ],
      "metadata": {
        "colab": {
          "base_uri": "https://localhost:8080/"
        },
        "id": "8Q7gd22pF-2D",
        "outputId": "e77038e7-4711-44b5-bf73-4932065ade60"
      },
      "execution_count": null,
      "outputs": [
        {
          "output_type": "stream",
          "name": "stdout",
          "text": [
            "Mutual Information: 0.4171708002476674\n",
            "Silhouette Score: 0.9214534353064813\n"
          ]
        }
      ]
    },
    {
      "cell_type": "markdown",
      "source": [
        "### Interpretation of the results:\n",
        "Based on the provided mutual information score of 0.417 and silhouette score of 0.921, here is an interpretation of the results:\n",
        "\n",
        "1. Mutual Information: The mutual information score measures the amount of information shared between the true labels and the assigned cluster labels. In this case, a score of 0.417 indicates a moderate level of agreement between the true labels and the clustering results. It suggests that the clusters capture some, but not all, of the underlying structure in the data. However, the interpretation of the mutual information score may vary depending on the specific dataset and problem domain. It is recommended to compare this score with the baseline or random expectation for your dataset to gain further insight.\n",
        "\n",
        "2. Silhouette Score: The silhouette score measures the quality of the clustering by assessing the compactness and separation of the clusters. A score of 0.921 indicates that the clusters are well-separated and have high intra-cluster cohesion. This is a strong silhouette score, suggesting that the clustering results are well-defined and the data points are assigned to the correct clusters. A score close to 1 suggests that the clusters are distinct, while negative scores indicate possible misassignments.\n",
        "\n",
        "Overall, based on the provided mutual information and silhouette scores, it seems that the clustering results are reasonably good. The high silhouette score indicates well-defined clusters with good separation, while the moderate mutual information score suggests some agreement between the clusters and the true labels. However, it is important to consider the specific characteristics of the data and the domain knowledge to interpret the results accurately."
      ],
      "metadata": {
        "id": "Mead1tQ5lwfO"
      }
    },
    {
      "cell_type": "code",
      "source": [
        "# Calculate mutual information scores\n",
        "#kmeans_mi = mutual_info_score(merged_data['sentiment'], kmeans_clusters)\n",
        "#spectral_mi = mutual_info_score(merged_data['sentiment'], spectral_clusters)"
      ],
      "metadata": {
        "id": "qSGZjxx4yVC5"
      },
      "execution_count": null,
      "outputs": []
    },
    {
      "cell_type": "code",
      "source": [
        "# Calculate silhouette scores\n",
        "#kmeans_silhouette = silhouette_score(scaled_data, kmeans_clusters)\n",
        "#spectral_silhouette = silhouette_score(scaled_data, spectral_clusters)\n",
        "\n",
        "# Print the evaluation results\n",
        "#print(f'K-means: Mutual Information = {kmeans_mi:.4f}, Silhouette Score = {kmeans_silhouette:.4f}')\n",
        "#print(f'Spectral Clustering: Mutual Information = {spectral_mi:.4f}, Silhouette Score = {spectral_silhouette:.4f}')\n"
      ],
      "metadata": {
        "id": "h8JvCxKqyjZz"
      },
      "execution_count": null,
      "outputs": []
    },
    {
      "cell_type": "markdown",
      "source": [
        "#2 \n",
        "Based on the whole training set (the previous data set except the latest five days) you are asked to define a decision tree that discriminates the three sentiments."
      ],
      "metadata": {
        "id": "-6WDe7zT1fL4"
      }
    },
    {
      "cell_type": "code",
      "source": [
        "from sklearn.tree import DecisionTreeClassifier\n",
        "from sklearn.metrics import classification_report\n",
        "from sklearn.metrics import accuracy_score\n",
        "from sklearn.model_selection import train_test_split\n",
        "from sklearn.model_selection import cross_val_score\n",
        "\n",
        "# Split the data into training and validation sets\n",
        "X_train, X_valid, y_train, y_valid = train_test_split(X, y, test_size=0.2, random_state=42)\n",
        "tree_classifier = DecisionTreeClassifier()\n",
        "# Train the decision tree model\n",
        "tree_classifier.fit(X_train, y_train)\n",
        "# Predict on the validation set\n",
        "y_pred_valid = tree_classifier.predict(X_valid)\n",
        "# Evaluate the model's performance on the validation set\n",
        "validation_accuracy = accuracy_score(y_valid, y_pred_valid)\n",
        "print(\"Validation Accuracy:\", validation_accuracy)\n",
        "\n",
        "# Predict on the last five days' data\n",
        "y_pred_last5 = tree_classifier.predict(X_last5)\n",
        "# Evaluate the model's performance on the last five days' data\n",
        "last5_accuracy = accuracy_score(y_last5, y_pred_last5)\n",
        "print(\"Accuracy on the Last Five Days' Data:\", last5_accuracy)\n",
        "# Perform cross-validation\n",
        "scores = cross_val_score(tree_classifier, X_train, y_train, cv=5)\n",
        "\n",
        "# Print the cross-validation scores\n",
        "print(\"Cross-Validation Scores:\", scores)\n",
        "print(\"Average Cross-Validation Score:\", scores.mean())\n"
      ],
      "metadata": {
        "id": "hUKJwoz1ykB2",
        "colab": {
          "base_uri": "https://localhost:8080/"
        },
        "outputId": "aaa59816-d341-42aa-e83b-362edf532ece"
      },
      "execution_count": null,
      "outputs": [
        {
          "output_type": "stream",
          "name": "stdout",
          "text": [
            "Validation Accuracy: 0.881116243989818\n",
            "Accuracy on the Last Five Days' Data: 0.5614366729678639\n",
            "Cross-Validation Scores: [0.8774452  0.87849146 0.87589864 0.87424867 0.87802004]\n",
            "Average Cross-Validation Score: 0.8768208027058606\n"
          ]
        }
      ]
    },
    {
      "cell_type": "markdown",
      "source": [
        "Overall, the model seems to perform well with high accuracy on both the validation dataset and the external test dataset. The cross-validation results also indicate that the model's performance is relatively stable across different folds of the training data.\n",
        "But the model performs better on unseen data (last five days' data) compared to the validation data, it could be due to several factors:\n",
        "\n",
        "1. Dataset differences: The last five days' data might have different characteristics or patterns compared to the validation data. It's possible that the model has learned to generalize well to the specific patterns present in the last five days' data, which happen to be similar to the patterns in the unseen data.\n",
        "\n",
        "2. Randomness: The validation dataset used for cross-validation might have a higher degree of randomness or variability compared to the last five days' data. The model might have encountered more challenging or diverse examples in the validation data, leading to a slightly lower accuracy compared to the more consistent patterns present in the last five days' data.\n",
        "\n",
        "3. Overfitting to validation data: It's also possible that the model has overfit to the validation data. This can happen if there is data leakage or if the model's hyperparameters are tuned based on the validation data. In such cases, the model might have learned specific patterns or noise present in the validation data, leading to a higher accuracy on unseen data.\n",
        "\n",
        "To further investigate and understand the performance differences, it's recommended to analyze the specific characteristics and distribution of the last five days' data and the validation data. Additionally, examining the model's training process, including the data splitting, preprocessing, feature selection, and hyperparameter tuning, can help identify potential reasons for the observed differences in performance."
      ],
      "metadata": {
        "id": "-7zi_a8b86tK"
      }
    },
    {
      "cell_type": "markdown",
      "source": [
        " # 3\n",
        " Assuming that we don’t know the rest of features exhibited by users during the latest 5 days. You are asked to forecast these features using a linear regression of your choice.\n",
        "\n",
        "So basically in this question we need to perform a time series prediction."
      ],
      "metadata": {
        "id": "IkmzNLUb9X6q"
      }
    },
    {
      "cell_type": "code",
      "source": [
        "from statsmodels.tsa.vector_ar.var_model import VAR\n",
        "\n",
        "# Fit the VAR model\n",
        "model = VAR(X)\n",
        "model_fit = model.fit()\n",
        "\n",
        "# Make predictions on the testing set\n",
        "predictions = model_fit.forecast(model_fit.endog, steps=len(X_last5))\n",
        "\n",
        "# Evaluate the model\n",
        "mse = ((X_last5 - predictions) ** 2).mean(axis=0)\n",
        "\n",
        "# Print the MSE for each variable\n",
        "for i, column in enumerate(X_last5.columns):\n",
        "    print(f\"MSE for Variable {i+1} ({column}): {mse[i]}\")\n"
      ],
      "metadata": {
        "colab": {
          "base_uri": "https://localhost:8080/"
        },
        "id": "PsnF779wRUsK",
        "outputId": "56db4a52-8352-4565-b8b0-705985bd0393"
      },
      "execution_count": null,
      "outputs": [
        {
          "output_type": "stream",
          "name": "stdout",
          "text": [
            "MSE for Variable 1 (valence_intensity): 0.0031327128323894557\n",
            "MSE for Variable 2 (fear_intensity): 0.004652756758077085\n",
            "MSE for Variable 3 (anger_intensity): 0.0029230532411951456\n",
            "MSE for Variable 4 (happiness_intensity): 0.002670839981911506\n",
            "MSE for Variable 5 (sadness_intensity): 0.002527058433282872\n"
          ]
        }
      ]
    },
    {
      "cell_type": "code",
      "source": [
        "# Create a new dataframe for predictions with column names\n",
        "prediction_columns = X_last5.columns\n",
        "prediction_df = pd.DataFrame(predictions, columns=prediction_columns)\n",
        "prediction_df['date'] = X_last5_date['date'].values\n",
        "\n",
        "# Print the predictions dataframe\n",
        "print(\"Predictions:\")\n",
        "print(prediction_df)"
      ],
      "metadata": {
        "colab": {
          "base_uri": "https://localhost:8080/"
        },
        "id": "MXYAfTvTXuu4",
        "outputId": "e2844d26-43be-49c8-d868-d04d6c223526"
      },
      "execution_count": null,
      "outputs": [
        {
          "output_type": "stream",
          "name": "stdout",
          "text": [
            "Predictions:\n",
            "     valence_intensity  fear_intensity  anger_intensity  happiness_intensity  \\\n",
            "0             0.481407        0.424046         0.378874             0.297683   \n",
            "1             0.477535        0.446429         0.406268             0.298643   \n",
            "2             0.474595        0.460280         0.419993             0.297967   \n",
            "3             0.473040        0.467773         0.426708             0.297388   \n",
            "4             0.472270        0.471660         0.429994             0.297037   \n",
            "..                 ...             ...              ...                  ...   \n",
            "524           0.471527        0.475666         0.433201             0.296627   \n",
            "525           0.471527        0.475666         0.433201             0.296627   \n",
            "526           0.471527        0.475666         0.433201             0.296627   \n",
            "527           0.471527        0.475666         0.433201             0.296627   \n",
            "528           0.471527        0.475666         0.433201             0.296627   \n",
            "\n",
            "     sadness_intensity       date  \n",
            "0             0.389934 2021-08-27  \n",
            "1             0.395784 2021-08-28  \n",
            "2             0.401328 2021-08-29  \n",
            "3             0.404470 2021-08-30  \n",
            "4             0.406089 2021-08-31  \n",
            "..                 ...        ...  \n",
            "524           0.407718 2021-08-27  \n",
            "525           0.407718 2021-08-28  \n",
            "526           0.407718 2021-08-29  \n",
            "527           0.407718 2021-08-30  \n",
            "528           0.407718 2021-08-31  \n",
            "\n",
            "[529 rows x 6 columns]\n"
          ]
        }
      ]
    },
    {
      "cell_type": "markdown",
      "source": [
        "# 4. \n",
        "Exploit the forecasted features to anticipate on the sentiment users will present each of those five days. Using the accuracy metric, evaluate and make an interpretation of your results."
      ],
      "metadata": {
        "id": "qaDGaK0mZLPI"
      }
    },
    {
      "cell_type": "code",
      "source": [
        "# Make predictions using the decision tree model\n",
        "predicted_sentiment_labels = tree_classifier.predict(prediction_df.drop('date', axis=1))\n",
        "\n",
        "# Create a dataframe to store the predicted sentiment labels with date column\n",
        "predicted_sentiment_labels_df = pd.DataFrame({'predicted_sentiment': predicted_sentiment_labels})\n",
        "predicted_sentiment_labels_df['date'] = prediction_df['date']\n",
        "\n",
        "# Print the predicted sentiment labels dataframe\n",
        "print(\"Predicted Sentiment Labels:\")\n",
        "print(predicted_sentiment_labels_df)\n"
      ],
      "metadata": {
        "colab": {
          "base_uri": "https://localhost:8080/"
        },
        "id": "Jk0RdNp9ZuQu",
        "outputId": "6cc0a69f-7874-482f-f4e8-84b84e3090bb"
      },
      "execution_count": null,
      "outputs": [
        {
          "output_type": "stream",
          "name": "stdout",
          "text": [
            "Predicted Sentiment Labels:\n",
            "     predicted_sentiment       date\n",
            "0                      0 2021-08-27\n",
            "1                      0 2021-08-28\n",
            "2                      0 2021-08-29\n",
            "3                      0 2021-08-30\n",
            "4                      0 2021-08-31\n",
            "..                   ...        ...\n",
            "524                    0 2021-08-27\n",
            "525                    0 2021-08-28\n",
            "526                    0 2021-08-29\n",
            "527                    0 2021-08-30\n",
            "528                    0 2021-08-31\n",
            "\n",
            "[529 rows x 2 columns]\n"
          ]
        }
      ]
    },
    {
      "cell_type": "code",
      "source": [
        "# Assuming you have the actual sentiment labels in a dataframe called actual_sentiment_labels_df\n",
        "actual_sentiment_labels = y_last5['sentiment']\n",
        "\n",
        "# Calculate accuracy\n",
        "accuracy = (predicted_sentiment_labels == actual_sentiment_labels).mean()\n",
        "\n",
        "# Print accuracy\n",
        "print(\"Accuracy:\", accuracy)\n"
      ],
      "metadata": {
        "colab": {
          "base_uri": "https://localhost:8080/"
        },
        "id": "CV2OxWXtaTnB",
        "outputId": "632eb620-c0b5-40b1-ad65-f61e737800de"
      },
      "execution_count": null,
      "outputs": [
        {
          "output_type": "stream",
          "name": "stdout",
          "text": [
            "Accuracy: 0.5085066162570888\n"
          ]
        }
      ]
    },
    {
      "cell_type": "markdown",
      "source": [
        "With an accuracy of 0.5085, the decision tree model is able to predict the sentiment labels with slightly better than random chance. However, the accuracy is relatively low, indicating that the model's performance in predicting sentiment based on the given features is not very strong.\n",
        "\n",
        "An accuracy of 0.5085 suggests that the model is correct in its sentiment predictions only around 50.85% of the time. This means that the model's predictions are not significantly better than randomly guessing the sentiment. It indicates that the decision tree model may not capture the underlying patterns or relationships between the features and sentiment labels effectively.\n",
        "\n",
        "The relatively low accuracy score suggests that there may be other factors or features that are important in predicting sentiment but are not captured by the current set of features used in the model. It might be worth exploring additional features or considering alternative models that can better capture the complexity of the sentiment prediction task.\n",
        "\n",
        "Further analysis can be conducted by examining the misclassified instances to understand the patterns or characteristics that the model struggles with. This can help identify areas for improvement and guide future model enhancements or feature engineering efforts.\n",
        "\n",
        "Overall, the accuracy of 0.5085 indicates that there is room for improvement in predicting sentiment based on the given features, and further refinement of the model or exploration of additional features is recommended."
      ],
      "metadata": {
        "id": "lBNyGlgfakN3"
      }
    },
    {
      "cell_type": "code",
      "source": [],
      "metadata": {
        "id": "P42DENa2ajgf"
      },
      "execution_count": null,
      "outputs": []
    }
  ]
}